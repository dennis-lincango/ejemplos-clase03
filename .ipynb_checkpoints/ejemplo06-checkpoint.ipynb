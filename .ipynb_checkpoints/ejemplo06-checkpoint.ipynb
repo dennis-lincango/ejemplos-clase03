{
 "cells": [
  {
   "cell_type": "code",
   "execution_count": 1,
   "id": "31f2291f-63e2-4b9f-adb5-93bfb15002c9",
   "metadata": {},
   "outputs": [
    {
     "name": "stdout",
     "output_type": "stream",
     "text": [
      "Collecting polars\n",
      "  Downloading polars-1.27.1-cp39-abi3-win_amd64.whl (35.6 MB)\n",
      "Installing collected packages: polars\n",
      "Successfully installed polars-1.27.1\n"
     ]
    },
    {
     "name": "stderr",
     "output_type": "stream",
     "text": [
      "WARNING: You are using pip version 21.2.3; however, version 25.0.1 is available.\n",
      "You should consider upgrading via the 'C:\\Users\\DENNI\\AppData\\Local\\Programs\\Python\\Python310\\python.exe -m pip install --upgrade pip' command.\n"
     ]
    }
   ],
   "source": [
    "!pip install polars"
   ]
  },
  {
   "cell_type": "code",
   "execution_count": 2,
   "id": "0a208a4d-9228-440e-9e06-d592fd9cf008",
   "metadata": {},
   "outputs": [],
   "source": [
    "#### 1. Generación del dataset de ejemplo (20 000 000 filas) ####\n",
    "import numpy as np\n",
    "n = 20000000\n",
    "np.random.seed(0) # sirver para tener la misma secuencia de valores\n",
    "\n",
    "# Columnas: un grupo categórico y un valor numérico\n",
    "groups = np.random.choice([\"A\",\"B\",\"C\",\"D\",\"E\"], size=n)\n",
    "values = np.random.randn(n)"
   ]
  },
  {
   "cell_type": "code",
   "execution_count": 3,
   "id": "f124f467-a0c7-4453-96bc-bd51fce05c58",
   "metadata": {},
   "outputs": [],
   "source": [
    "#### 2. En pandas ####\n",
    "import pandas as pd\n",
    "import time\n",
    "\n",
    "# Construir DataFrame\n",
    "df_pd = pd.DataFrame({\"group\": groups, \"value\": values})"
   ]
  },
  {
   "cell_type": "code",
   "execution_count": 4,
   "id": "1dd06ad0-c22d-4836-b716-e39d9e2dcb4a",
   "metadata": {},
   "outputs": [
    {
     "data": {
      "text/html": [
       "<div>\n",
       "<style scoped>\n",
       "    .dataframe tbody tr th:only-of-type {\n",
       "        vertical-align: middle;\n",
       "    }\n",
       "\n",
       "    .dataframe tbody tr th {\n",
       "        vertical-align: top;\n",
       "    }\n",
       "\n",
       "    .dataframe thead th {\n",
       "        text-align: right;\n",
       "    }\n",
       "</style>\n",
       "<table border=\"1\" class=\"dataframe\">\n",
       "  <thead>\n",
       "    <tr style=\"text-align: right;\">\n",
       "      <th></th>\n",
       "      <th>group</th>\n",
       "      <th>value</th>\n",
       "    </tr>\n",
       "  </thead>\n",
       "  <tbody>\n",
       "    <tr>\n",
       "      <th>0</th>\n",
       "      <td>E</td>\n",
       "      <td>-0.787968</td>\n",
       "    </tr>\n",
       "    <tr>\n",
       "      <th>1</th>\n",
       "      <td>A</td>\n",
       "      <td>-0.891982</td>\n",
       "    </tr>\n",
       "    <tr>\n",
       "      <th>2</th>\n",
       "      <td>D</td>\n",
       "      <td>-0.281685</td>\n",
       "    </tr>\n",
       "    <tr>\n",
       "      <th>3</th>\n",
       "      <td>D</td>\n",
       "      <td>1.770646</td>\n",
       "    </tr>\n",
       "    <tr>\n",
       "      <th>4</th>\n",
       "      <td>D</td>\n",
       "      <td>1.023282</td>\n",
       "    </tr>\n",
       "    <tr>\n",
       "      <th>...</th>\n",
       "      <td>...</td>\n",
       "      <td>...</td>\n",
       "    </tr>\n",
       "    <tr>\n",
       "      <th>19999995</th>\n",
       "      <td>A</td>\n",
       "      <td>-0.571438</td>\n",
       "    </tr>\n",
       "    <tr>\n",
       "      <th>19999996</th>\n",
       "      <td>B</td>\n",
       "      <td>-0.873468</td>\n",
       "    </tr>\n",
       "    <tr>\n",
       "      <th>19999997</th>\n",
       "      <td>E</td>\n",
       "      <td>-1.245281</td>\n",
       "    </tr>\n",
       "    <tr>\n",
       "      <th>19999998</th>\n",
       "      <td>E</td>\n",
       "      <td>0.546941</td>\n",
       "    </tr>\n",
       "    <tr>\n",
       "      <th>19999999</th>\n",
       "      <td>E</td>\n",
       "      <td>0.039785</td>\n",
       "    </tr>\n",
       "  </tbody>\n",
       "</table>\n",
       "<p>20000000 rows × 2 columns</p>\n",
       "</div>"
      ],
      "text/plain": [
       "         group     value\n",
       "0            E -0.787968\n",
       "1            A -0.891982\n",
       "2            D -0.281685\n",
       "3            D  1.770646\n",
       "4            D  1.023282\n",
       "...        ...       ...\n",
       "19999995     A -0.571438\n",
       "19999996     B -0.873468\n",
       "19999997     E -1.245281\n",
       "19999998     E  0.546941\n",
       "19999999     E  0.039785\n",
       "\n",
       "[20000000 rows x 2 columns]"
      ]
     },
     "execution_count": 4,
     "metadata": {},
     "output_type": "execute_result"
    }
   ],
   "source": [
    "df_pd"
   ]
  },
  {
   "cell_type": "code",
   "execution_count": 5,
   "id": "2e775e57-3765-4504-9b3a-b462adab26e6",
   "metadata": {},
   "outputs": [
    {
     "name": "stdout",
     "output_type": "stream",
     "text": [
      "Pandas total time: 0.71 s\n"
     ]
    }
   ],
   "source": [
    "# Medir filtrado y agrupación\n",
    "start = time.time()\n",
    "filtered_pd = df_pd[df_pd[\"value\"] > 0]\n",
    "grouped_pd = filtered_pd.groupby(\"group\")[\"value\"].mean()\n",
    "t_pd = time.time() - start\n",
    "print(f\"Pandas total time: {t_pd:.2f} s\")\n"
   ]
  },
  {
   "cell_type": "code",
   "execution_count": 6,
   "id": "d76ae056-1363-406c-9706-e80e5add3c16",
   "metadata": {},
   "outputs": [
    {
     "data": {
      "text/plain": [
       "group\n",
       "A    0.797175\n",
       "B    0.797904\n",
       "C    0.798409\n",
       "D    0.797725\n",
       "E    0.796575\n",
       "Name: value, dtype: float64"
      ]
     },
     "execution_count": 6,
     "metadata": {},
     "output_type": "execute_result"
    }
   ],
   "source": [
    "grouped_pd"
   ]
  },
  {
   "cell_type": "code",
   "execution_count": 7,
   "id": "29327ee8-be27-47ed-992c-3e77657f14f2",
   "metadata": {},
   "outputs": [
    {
     "data": {
      "text/html": [
       "<div>\n",
       "<style scoped>\n",
       "    .dataframe tbody tr th:only-of-type {\n",
       "        vertical-align: middle;\n",
       "    }\n",
       "\n",
       "    .dataframe tbody tr th {\n",
       "        vertical-align: top;\n",
       "    }\n",
       "\n",
       "    .dataframe thead th {\n",
       "        text-align: right;\n",
       "    }\n",
       "</style>\n",
       "<table border=\"1\" class=\"dataframe\">\n",
       "  <thead>\n",
       "    <tr style=\"text-align: right;\">\n",
       "      <th></th>\n",
       "      <th>group</th>\n",
       "      <th>value</th>\n",
       "    </tr>\n",
       "  </thead>\n",
       "  <tbody>\n",
       "    <tr>\n",
       "      <th>3</th>\n",
       "      <td>D</td>\n",
       "      <td>1.770646</td>\n",
       "    </tr>\n",
       "    <tr>\n",
       "      <th>4</th>\n",
       "      <td>D</td>\n",
       "      <td>1.023282</td>\n",
       "    </tr>\n",
       "    <tr>\n",
       "      <th>5</th>\n",
       "      <td>B</td>\n",
       "      <td>0.232165</td>\n",
       "    </tr>\n",
       "    <tr>\n",
       "      <th>6</th>\n",
       "      <td>D</td>\n",
       "      <td>0.078764</td>\n",
       "    </tr>\n",
       "    <tr>\n",
       "      <th>7</th>\n",
       "      <td>C</td>\n",
       "      <td>1.424839</td>\n",
       "    </tr>\n",
       "    <tr>\n",
       "      <th>...</th>\n",
       "      <td>...</td>\n",
       "      <td>...</td>\n",
       "    </tr>\n",
       "    <tr>\n",
       "      <th>19999988</th>\n",
       "      <td>C</td>\n",
       "      <td>0.659023</td>\n",
       "    </tr>\n",
       "    <tr>\n",
       "      <th>19999991</th>\n",
       "      <td>C</td>\n",
       "      <td>2.170404</td>\n",
       "    </tr>\n",
       "    <tr>\n",
       "      <th>19999993</th>\n",
       "      <td>A</td>\n",
       "      <td>0.951577</td>\n",
       "    </tr>\n",
       "    <tr>\n",
       "      <th>19999998</th>\n",
       "      <td>E</td>\n",
       "      <td>0.546941</td>\n",
       "    </tr>\n",
       "    <tr>\n",
       "      <th>19999999</th>\n",
       "      <td>E</td>\n",
       "      <td>0.039785</td>\n",
       "    </tr>\n",
       "  </tbody>\n",
       "</table>\n",
       "<p>10000205 rows × 2 columns</p>\n",
       "</div>"
      ],
      "text/plain": [
       "         group     value\n",
       "3            D  1.770646\n",
       "4            D  1.023282\n",
       "5            B  0.232165\n",
       "6            D  0.078764\n",
       "7            C  1.424839\n",
       "...        ...       ...\n",
       "19999988     C  0.659023\n",
       "19999991     C  2.170404\n",
       "19999993     A  0.951577\n",
       "19999998     E  0.546941\n",
       "19999999     E  0.039785\n",
       "\n",
       "[10000205 rows x 2 columns]"
      ]
     },
     "execution_count": 7,
     "metadata": {},
     "output_type": "execute_result"
    }
   ],
   "source": [
    "filtered_pd"
   ]
  },
  {
   "cell_type": "code",
   "execution_count": 8,
   "id": "d7303eb5-161b-4125-ac2f-b7253650e2fd",
   "metadata": {},
   "outputs": [],
   "source": [
    "## ------------------------------"
   ]
  },
  {
   "cell_type": "code",
   "execution_count": 9,
   "id": "88b20f52-2c4b-4bf7-b4b1-4312f69aee39",
   "metadata": {},
   "outputs": [],
   "source": [
    "#### 3. En polars (lazy) ####\n",
    "import polars as pl\n"
   ]
  },
  {
   "cell_type": "code",
   "execution_count": 10,
   "id": "b6ff3921-dcc8-417d-8fa8-8b7bc52a08ec",
   "metadata": {},
   "outputs": [],
   "source": [
    "# 3. Polars lazy: filtrado + agrupación \n",
    "df_pl = pl.from_pandas(df_pd)\n",
    "\n",
    "lazy_pl = (\n",
    "    df_pl.lazy()\n",
    "         .filter(pl.col(\"value\") > 0)\n",
    "         .group_by(\"group\")                \n",
    "         .agg(pl.col(\"value\").mean())\n",
    ")\n",
    "\n"
   ]
  },
  {
   "cell_type": "code",
   "execution_count": 11,
   "id": "7a1ff0c5-f7f8-44a8-acf8-849de2a699a0",
   "metadata": {},
   "outputs": [
    {
     "name": "stdout",
     "output_type": "stream",
     "text": [
      "Polars total time: 0.21 s\n"
     ]
    }
   ],
   "source": [
    "start = time.time()\n",
    "grouped_pl = lazy_pl.collect()\n",
    "t_pl = time.time() - start\n",
    "print(f\"Polars total time: {t_pl:.2f} s\")"
   ]
  },
  {
   "cell_type": "code",
   "execution_count": 12,
   "id": "07143cb1-599c-4319-bc4a-d2883217836b",
   "metadata": {},
   "outputs": [
    {
     "data": {
      "text/html": [
       "<div><style>\n",
       ".dataframe > thead > tr,\n",
       ".dataframe > tbody > tr {\n",
       "  text-align: right;\n",
       "  white-space: pre-wrap;\n",
       "}\n",
       "</style>\n",
       "<small>shape: (20_000_000, 2)</small><table border=\"1\" class=\"dataframe\"><thead><tr><th>group</th><th>value</th></tr><tr><td>str</td><td>f64</td></tr></thead><tbody><tr><td>&quot;E&quot;</td><td>-0.787968</td></tr><tr><td>&quot;A&quot;</td><td>-0.891982</td></tr><tr><td>&quot;D&quot;</td><td>-0.281685</td></tr><tr><td>&quot;D&quot;</td><td>1.770646</td></tr><tr><td>&quot;D&quot;</td><td>1.023282</td></tr><tr><td>&hellip;</td><td>&hellip;</td></tr><tr><td>&quot;A&quot;</td><td>-0.571438</td></tr><tr><td>&quot;B&quot;</td><td>-0.873468</td></tr><tr><td>&quot;E&quot;</td><td>-1.245281</td></tr><tr><td>&quot;E&quot;</td><td>0.546941</td></tr><tr><td>&quot;E&quot;</td><td>0.039785</td></tr></tbody></table></div>"
      ],
      "text/plain": [
       "shape: (20_000_000, 2)\n",
       "┌───────┬───────────┐\n",
       "│ group ┆ value     │\n",
       "│ ---   ┆ ---       │\n",
       "│ str   ┆ f64       │\n",
       "╞═══════╪═══════════╡\n",
       "│ E     ┆ -0.787968 │\n",
       "│ A     ┆ -0.891982 │\n",
       "│ D     ┆ -0.281685 │\n",
       "│ D     ┆ 1.770646  │\n",
       "│ D     ┆ 1.023282  │\n",
       "│ …     ┆ …         │\n",
       "│ A     ┆ -0.571438 │\n",
       "│ B     ┆ -0.873468 │\n",
       "│ E     ┆ -1.245281 │\n",
       "│ E     ┆ 0.546941  │\n",
       "│ E     ┆ 0.039785  │\n",
       "└───────┴───────────┘"
      ]
     },
     "execution_count": 12,
     "metadata": {},
     "output_type": "execute_result"
    }
   ],
   "source": [
    "df_pl"
   ]
  },
  {
   "cell_type": "code",
   "execution_count": 13,
   "id": "74d5db5b-d121-48c3-b9e4-63ae47d06ae2",
   "metadata": {},
   "outputs": [
    {
     "data": {
      "text/html": [
       "<div><style>\n",
       ".dataframe > thead > tr,\n",
       ".dataframe > tbody > tr {\n",
       "  text-align: right;\n",
       "  white-space: pre-wrap;\n",
       "}\n",
       "</style>\n",
       "<small>shape: (5, 2)</small><table border=\"1\" class=\"dataframe\"><thead><tr><th>group</th><th>value</th></tr><tr><td>str</td><td>f64</td></tr></thead><tbody><tr><td>&quot;C&quot;</td><td>0.798409</td></tr><tr><td>&quot;B&quot;</td><td>0.797904</td></tr><tr><td>&quot;A&quot;</td><td>0.797175</td></tr><tr><td>&quot;D&quot;</td><td>0.797725</td></tr><tr><td>&quot;E&quot;</td><td>0.796575</td></tr></tbody></table></div>"
      ],
      "text/plain": [
       "shape: (5, 2)\n",
       "┌───────┬──────────┐\n",
       "│ group ┆ value    │\n",
       "│ ---   ┆ ---      │\n",
       "│ str   ┆ f64      │\n",
       "╞═══════╪══════════╡\n",
       "│ C     ┆ 0.798409 │\n",
       "│ B     ┆ 0.797904 │\n",
       "│ A     ┆ 0.797175 │\n",
       "│ D     ┆ 0.797725 │\n",
       "│ E     ┆ 0.796575 │\n",
       "└───────┴──────────┘"
      ]
     },
     "execution_count": 13,
     "metadata": {},
     "output_type": "execute_result"
    }
   ],
   "source": [
    "grouped_pl"
   ]
  }
 ],
 "metadata": {
  "kernelspec": {
   "display_name": "Python 3 (ipykernel)",
   "language": "python",
   "name": "python3"
  },
  "language_info": {
   "codemirror_mode": {
    "name": "ipython",
    "version": 3
   },
   "file_extension": ".py",
   "mimetype": "text/x-python",
   "name": "python",
   "nbconvert_exporter": "python",
   "pygments_lexer": "ipython3",
   "version": "3.10.0"
  }
 },
 "nbformat": 4,
 "nbformat_minor": 5
}
